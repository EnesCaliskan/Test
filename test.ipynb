{
 "cells": [
  {
   "cell_type": "code",
   "execution_count": 1,
   "id": "e6e5bd29",
   "metadata": {},
   "outputs": [],
   "source": [
    "%load_ext autoreload\n",
    "%autoreload 2"
   ]
  },
  {
   "cell_type": "code",
   "execution_count": 15,
   "id": "89d5780e",
   "metadata": {},
   "outputs": [
    {
     "name": "stdout",
     "output_type": "stream",
     "text": [
      "481\n"
     ]
    }
   ],
   "source": [
    "import chromadb\n",
    "client = chromadb.PersistentClient(path=\"chroma_db\")\n",
    "collection = client.get_collection(\"documents\")\n",
    "print(collection.count())   # should show >0 now\n"
   ]
  },
  {
   "cell_type": "code",
   "execution_count": 16,
   "id": "8d1e6f51",
   "metadata": {},
   "outputs": [
    {
     "data": {
      "text/html": [
       "<div>\n",
       "<style scoped>\n",
       "    .dataframe tbody tr th:only-of-type {\n",
       "        vertical-align: middle;\n",
       "    }\n",
       "\n",
       "    .dataframe tbody tr th {\n",
       "        vertical-align: top;\n",
       "    }\n",
       "\n",
       "    .dataframe thead th {\n",
       "        text-align: right;\n",
       "    }\n",
       "</style>\n",
       "<table border=\"1\" class=\"dataframe\">\n",
       "  <thead>\n",
       "    <tr style=\"text-align: right;\">\n",
       "      <th></th>\n",
       "      <th>id</th>\n",
       "      <th>document</th>\n",
       "      <th>metadata</th>\n",
       "    </tr>\n",
       "  </thead>\n",
       "  <tbody>\n",
       "    <tr>\n",
       "      <th>0</th>\n",
       "      <td>paper_0</td>\n",
       "      <td>See discussions, stats, and author profiles fo...</td>\n",
       "      <td>{'id': 'paper_0', 'length': 784}</td>\n",
       "    </tr>\n",
       "    <tr>\n",
       "      <th>1</th>\n",
       "      <td>paper_1</td>\n",
       "      <td>Budapest, 2025Contents\\n1 Introduction 3\\n2 Th...</td>\n",
       "      <td>{'length': 775, 'id': 'paper_1'}</td>\n",
       "    </tr>\n",
       "    <tr>\n",
       "      <th>2</th>\n",
       "      <td>paper_2</td>\n",
       "      <td>3.3.6 Posterior Predictive Distribution and Da...</td>\n",
       "      <td>{'id': 'paper_2', 'length': 784}</td>\n",
       "    </tr>\n",
       "    <tr>\n",
       "      <th>3</th>\n",
       "      <td>paper_3</td>\n",
       "      <td>4 Results 30\\n4.1 Evaluation Metrics . . . . ....</td>\n",
       "      <td>{'id': 'paper_3', 'length': 750}</td>\n",
       "    </tr>\n",
       "    <tr>\n",
       "      <th>4</th>\n",
       "      <td>paper_4</td>\n",
       "      <td>5.4 Limitations . . . . . . . . . . . . . . . ...</td>\n",
       "      <td>{'length': 717, 'id': 'paper_4'}</td>\n",
       "    </tr>\n",
       "  </tbody>\n",
       "</table>\n",
       "</div>"
      ],
      "text/plain": [
       "        id                                           document  \\\n",
       "0  paper_0  See discussions, stats, and author profiles fo...   \n",
       "1  paper_1  Budapest, 2025Contents\\n1 Introduction 3\\n2 Th...   \n",
       "2  paper_2  3.3.6 Posterior Predictive Distribution and Da...   \n",
       "3  paper_3  4 Results 30\\n4.1 Evaluation Metrics . . . . ....   \n",
       "4  paper_4  5.4 Limitations . . . . . . . . . . . . . . . ...   \n",
       "\n",
       "                           metadata  \n",
       "0  {'id': 'paper_0', 'length': 784}  \n",
       "1  {'length': 775, 'id': 'paper_1'}  \n",
       "2  {'id': 'paper_2', 'length': 784}  \n",
       "3  {'id': 'paper_3', 'length': 750}  \n",
       "4  {'length': 717, 'id': 'paper_4'}  "
      ]
     },
     "execution_count": 16,
     "metadata": {},
     "output_type": "execute_result"
    }
   ],
   "source": [
    "import pandas as pd\n",
    "\n",
    "data = collection.get(include=[\"documents\", \"metadatas\"], limit=20)\n",
    "df = pd.DataFrame({\n",
    "    \"id\": data[\"ids\"],\n",
    "    \"document\": data[\"documents\"],\n",
    "    \"metadata\": data[\"metadatas\"]\n",
    "})\n",
    "df.head()\n"
   ]
  },
  {
   "cell_type": "code",
   "execution_count": 18,
   "id": "799ae79c",
   "metadata": {},
   "outputs": [
    {
     "ename": "ModuleNotFoundError",
     "evalue": "No module named 'embeddings'",
     "output_type": "error",
     "traceback": [
      "\u001b[31m---------------------------------------------------------------------------\u001b[39m",
      "\u001b[31mModuleNotFoundError\u001b[39m                       Traceback (most recent call last)",
      "\u001b[36mCell\u001b[39m\u001b[36m \u001b[39m\u001b[32mIn[18]\u001b[39m\u001b[32m, line 1\u001b[39m\n\u001b[32m----> \u001b[39m\u001b[32m1\u001b[39m \u001b[38;5;28;01mfrom\u001b[39;00m\u001b[38;5;250m \u001b[39m\u001b[34;01membeddings\u001b[39;00m\u001b[38;5;250m \u001b[39m\u001b[38;5;28;01mimport\u001b[39;00m EmbeddingStore\n\u001b[32m      2\u001b[39m store = EmbeddingStore()\n\u001b[32m      3\u001b[39m \u001b[38;5;28mprint\u001b[39m(\u001b[33m\"\u001b[39m\u001b[33mCount in collection:\u001b[39m\u001b[33m\"\u001b[39m, store.collection.count())\n",
      "\u001b[31mModuleNotFoundError\u001b[39m: No module named 'embeddings'"
     ]
    }
   ],
   "source": [
    "from embeddings import EmbeddingStore\n",
    "store = EmbeddingStore()\n",
    "print(\"Count in collection:\", store.collection.count())\n"
   ]
  }
 ],
 "metadata": {
  "kernelspec": {
   "display_name": "venv",
   "language": "python",
   "name": "python3"
  },
  "language_info": {
   "codemirror_mode": {
    "name": "ipython",
    "version": 3
   },
   "file_extension": ".py",
   "mimetype": "text/x-python",
   "name": "python",
   "nbconvert_exporter": "python",
   "pygments_lexer": "ipython3",
   "version": "3.11.9"
  }
 },
 "nbformat": 4,
 "nbformat_minor": 5
}
